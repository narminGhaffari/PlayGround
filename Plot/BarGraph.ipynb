{
 "cells": [
  {
   "attachments": {},
   "cell_type": "markdown",
   "metadata": {},
   "source": [
    "This notebook shows how to plot bar graph. A bar graph is a type of chart that presents data in the form of rectangular bars or columns, where the height or length of each bar represents the quantity or frequency of a particular category or variable. The bars are typically arranged along the horizontal (x) axis or the vertical (y) axis of the graph, and can be colored or shaded to distinguish between different data series or categories. Bar graphs are commonly used in statistics, economics, marketing, and other fields to visualize and compare data sets, and to show patterns, trends, and relationships between variables."
   ]
  },
  {
   "cell_type": "code",
   "execution_count": null,
   "metadata": {},
   "outputs": [],
   "source": [
    "import pandas as pd\n",
    "import matplotlib.pyplot as plt\n",
    "import matplotlib as mpl"
   ]
  },
  {
   "cell_type": "code",
   "execution_count": 18,
   "metadata": {},
   "outputs": [],
   "source": [
    "def PlotBarGraph (fileAdress, columnName, savePath = None, figTitle = 'Bar Graph', xlabel = 'x' , ylabel = 'y', dropNA = False):\n",
    "    \n",
    "    \"\"\"\n",
    "        Plots Bar graph. The input to the function is an .xlsx or .csv format file and specified column to plot the bar graph.\n",
    "        Arguments:\n",
    "            fileAdress: adress to the .csv or .xlsx file.         \n",
    "            columnName: name of the specified column to draw the bar graph based on its values.            \n",
    "            savePath: a path containing the image name to save the figure.            \n",
    "            figTitle: the title of the figure.\n",
    "            xlabel: the label to use for x axis.\n",
    "            ylabel: the label to use for y axis.\n",
    "            dropNA: if True, then it will drop all the rows which they contain na for the specified column.\n",
    "        Returns:\n",
    "            a bar grpah saved in the specified directory.\n",
    "    \"\"\"   \n",
    "    \n",
    "    if '.csv' in fileAdress:\n",
    "        data = pd.read_csv(fileAdress)\n",
    "    else:\n",
    "        data = pd.read_excel(fileAdress)\n",
    "    if dropNA:    \n",
    "        data.dropna(subset = [columnName], inplace = True)\n",
    "    else:\n",
    "        data[columnName] = data[columnName].fillna('none')\n",
    "    \n",
    "    uniqueValues = data[columnName].unique()\n",
    "    uniqueValues_count = []\n",
    "    for uniqueValue in uniqueValues:\n",
    "        uniqueValues_count.append(list(data[columnName]).count(uniqueValue))\n",
    "        \n",
    "    fig, ax = plt.subplots()  \n",
    "    my_cmap = plt.cm.get_cmap('GnBu')\n",
    "    normalized_Values = [x / max(uniqueValues_count) for x in uniqueValues_count]\n",
    "    colors = my_cmap(normalized_Values)\n",
    "    \n",
    "    \n",
    "    mpl.rcParams['font.size'] = 20\n",
    "    plt.bar(uniqueValues, uniqueValues_count, color = colors)\n",
    "    plt.title(figTitle)\n",
    "    plt.xlabel(xlabel)\n",
    "    plt.ylabel(ylabel)\n",
    "    plt.xticks(uniqueValues)   \n",
    "    ax.set_aspect(1.0/ax.get_data_ratio(), adjustable = 'box')\n",
    "    if savePath:\n",
    "        plt.savefig(savePath, bbox_inches='tight', dpi=500, pad_inches = 0.5)\n",
    "        plt.close()"
   ]
  },
  {
   "cell_type": "code",
   "execution_count": 20,
   "metadata": {},
   "outputs": [
    {
     "name": "stderr",
     "output_type": "stream",
     "text": [
      "C:\\Users\\User\\AppData\\Local\\Temp/ipykernel_23624/348328947.py:32: MatplotlibDeprecationWarning: The get_cmap function was deprecated in Matplotlib 3.7 and will be removed two minor releases later. Use ``matplotlib.colormaps[name]`` or ``matplotlib.colormaps.get_cmap(obj)`` instead.\n",
      "  my_cmap = plt.cm.get_cmap('GnBu')\n"
     ]
    },
    {
     "data": {
      "image/png": "[encoded data removed]",
      "text/plain": [
       "<Figure size 432x288 with 1 Axes>"
      ]
     },
     "metadata": {
      "needs_background": "light"
     },
     "output_type": "display_data"
    }
   ],
   "source": [
    "PlotBarGraph (fileAdress = \"G:\\My Drive\\Data\\TCGA-CRC-DX-MUTATIONS.csv\", \n",
    "              columnName = 'KRAS', figTitle = 'Bar Graph', xlabel = 'x' , ylabel = 'y', dropNA = True)"
   ]
  },
  {
   "cell_type": "code",
   "execution_count": 21,
   "metadata": {},
   "outputs": [
    {
     "name": "stderr",
     "output_type": "stream",
     "text": [
      "C:\\Users\\User\\AppData\\Local\\Temp/ipykernel_23624/348328947.py:32: MatplotlibDeprecationWarning: The get_cmap function was deprecated in Matplotlib 3.7 and will be removed two minor releases later. Use ``matplotlib.colormaps[name]`` or ``matplotlib.colormaps.get_cmap(obj)`` instead.\n",
      "  my_cmap = plt.cm.get_cmap('GnBu')\n"
     ]
    },
    {
     "data": {
      "image/png": "[encoded data removed]",
      "text/plain": [
       "<Figure size 432x288 with 1 Axes>"
      ]
     },
     "metadata": {
      "needs_background": "light"
     },
     "output_type": "display_data"
    }
   ],
   "source": [
    "PlotBarGraph (fileAdress = \"G:\\My Drive\\Data\\TCGA-CRC-DX-MUTATIONS.csv\", \n",
    "              columnName = 'KRAS', figTitle = 'Bar Graph', xlabel = 'x' , ylabel = 'y', dropNA = False)"
   ]
  },
  {
   "cell_type": "code",
   "execution_count": null,
   "metadata": {},
   "outputs": [],
   "source": []
  }
 ],
 "metadata": {
  "kernelspec": {
   "display_name": "base",
   "language": "python",
   "name": "python3"
  },
  "language_info": {
   "codemirror_mode": {
    "name": "ipython",
    "version": 3
   },
   "file_extension": ".py",
   "mimetype": "text/x-python",
   "name": "python",
   "nbconvert_exporter": "python",
   "pygments_lexer": "ipython3",
   "version": "3.8.3"
  },
  "orig_nbformat": 4,
  "vscode": {
   "interpreter": {
    "hash": "f08154012ddadd8e950e6e9e035c7a7b32c136e7647e9b7c77e02eb723a8bedb"
   }
  }
 },
 "nbformat": 4,
 "nbformat_minor": 2
}
