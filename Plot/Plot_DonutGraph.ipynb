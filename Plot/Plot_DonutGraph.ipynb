{
 "cells": [
  {
   "attachments": {},
   "cell_type": "markdown",
   "metadata": {},
   "source": [
    "This notebook shows how to plot donut graph. A donut figure is a type of data visualization that resembles a donut or a ring. It is also known as a doughnut chart. This chart is used to display data in a circular format, with the values represented as slices of the donut. The outer ring represents the total value of the data, while the inner ring represents a subset of that total value. The donut figure can be used to compare the proportion of different subsets to the total value, and to show how they relate to each other. It is a useful tool for presenting data in a visually appealing and easy-to-understand way."
   ]
  },
  {
   "cell_type": "code",
   "execution_count": 1,
   "metadata": {},
   "outputs": [],
   "source": [
    "import matplotlib as mpl\n",
    "import matplotlib.pyplot as plt\n",
    "import numpy as np"
   ]
  },
  {
   "cell_type": "code",
   "execution_count": 3,
   "metadata": {},
   "outputs": [],
   "source": [
    "def PlotDonut (subsetValues, savePath = None, color = ['#a50026', '#fdae61'], figTitle = 'Donut Figure'):\n",
    "    \n",
    "    \"\"\"\n",
    "        Plots donut figure. The input to the function can be single list or the list of lists to plot and save the figures automatically. \n",
    "        Arguments:\n",
    "            subsetValues: is a list containing the values for the donut figure.            \n",
    "            example: subsetValues = [10, 20]            \n",
    "            savePath: a path containing the image name to save the figure.            \n",
    "            color: list of colors to fill the parts of donut figure.            \n",
    "            figTitle: the title of the figure.            \n",
    "        Returns:\n",
    "            A donut figure saved in the specified directory.\n",
    "    \"\"\"     \n",
    "    \n",
    "    assert len(subsetValues) == len(color)   \n",
    "     \n",
    "    fig, ax = plt.subplots()\n",
    "    mpl.rcParams['font.size'] = 10\n",
    "    mypie,texts = ax.pie(subsetValues, radius=1,pctdistance = 1.4, colors = color)    \n",
    "    plt.setp(mypie, width=0.5, edgecolor='white')\n",
    "    ax.set_title(figTitle)\n",
    "    \n",
    "    bbox_props = dict(boxstyle=\"square,pad=0.3\", fc=\"w\", ec=\"k\", lw=0.72)\n",
    "    kw = dict(arrowprops=dict(arrowstyle=\"-\"),\n",
    "              bbox=bbox_props, zorder=0, va=\"center\")    \n",
    "    for i, p in enumerate(mypie):\n",
    "        ang = (p.theta2 - p.theta1)/2. + p.theta1\n",
    "        y = np.sin(np.deg2rad(ang))\n",
    "        x = np.cos(np.deg2rad(ang))\n",
    "        horizontalalignment = {-1: \"right\", 1: \"left\"}[int(np.sign(x))]\n",
    "        connectionstyle = \"angle,angleA=0,angleB={}\".format(ang)\n",
    "        kw[\"arrowprops\"].update({\"connectionstyle\": connectionstyle})\n",
    "        ax.annotate(str(subsetValues[i]) + '(' + str(np.round(subsetValues[i] / np.sum(subsetValues),2)*100) + '%)',\n",
    "                    xy=(x, y), xytext=(1.35*np.sign(x), 1.4*y), horizontalalignment=horizontalalignment, **kw)\n",
    "    ax.set_aspect(1.0/ax.get_data_ratio(), adjustable='box')\n",
    "    if savePath:\n",
    "        plt.savefig(savePath, bbox_inches='tight', dpi=500, pad_inches = 0.5)\n",
    "        plt.close()"
   ]
  },
  {
   "cell_type": "code",
   "execution_count": 5,
   "metadata": {},
   "outputs": [
    {
     "data": {
      "image/png": "[encoded data removed]",
      "text/plain": [
       "<Figure size 432x288 with 1 Axes>"
      ]
     },
     "metadata": {},
     "output_type": "display_data"
    }
   ],
   "source": [
    "PlotDonut(subsetValues = [250, 1023])"
   ]
  },
  {
   "cell_type": "code",
   "execution_count": null,
   "metadata": {},
   "outputs": [],
   "source": []
  }
 ],
 "metadata": {
  "kernelspec": {
   "display_name": "base",
   "language": "python",
   "name": "python3"
  },
  "language_info": {
   "codemirror_mode": {
    "name": "ipython",
    "version": 3
   },
   "file_extension": ".py",
   "mimetype": "text/x-python",
   "name": "python",
   "nbconvert_exporter": "python",
   "pygments_lexer": "ipython3",
   "version": "3.8.3"
  },
  "orig_nbformat": 4,
  "vscode": {
   "interpreter": {
    "hash": "f08154012ddadd8e950e6e9e035c7a7b32c136e7647e9b7c77e02eb723a8bedb"
   }
  }
 },
 "nbformat": 4,
 "nbformat_minor": 2
}
